{
 "metadata": {
  "language_info": {
   "codemirror_mode": {
    "name": "ipython",
    "version": 3
   },
   "file_extension": ".py",
   "mimetype": "text/x-python",
   "name": "python",
   "nbconvert_exporter": "python",
   "pygments_lexer": "ipython3",
   "version": "3.6.3-final"
  },
  "orig_nbformat": 2,
  "kernelspec": {
   "name": "python3",
   "display_name": "Python 3.6.3 64-bit ('torch_3.6.3')",
   "metadata": {
    "interpreter": {
     "hash": "7a29bcb23a0ab4b628de1ef28bf000c8e312015eb828f1870c9d55726cf27100"
    }
   }
  }
 },
 "nbformat": 4,
 "nbformat_minor": 2,
 "cells": [
  {
   "source": [
    "# 字典和集合：\n",
    "\n",
    "- 散列表则是字典类型性能出众的根本原因\n",
    "\n",
    "- 标准库里的所有映射类型都是利用dict来实现的，因此它们有个共同的限制，即只有可散列的数据类型才能用作这些映射里的键（只有键有这个要求，值并不需要是可散列的数据类型）\n",
    "- 什么是可散列的数据类型？\n",
    "    - 如果一个对象是可散列的，那么在这个对象的生命周期中，它的散列值是不变的，而且这个对象需要实现__hash__（　）方法。另外可散列对象还要有__eq__（　）方法，这样才能跟其他键做比较。如果两个可散列对象是相等的，那么它们的散列值一定是一样的\n",
    "    - 例如： str, bytes 数值类型, frozenset, (str,...)\n",
    "    - 一般来讲用户自定义的类型的对象都是可散列的，散列值就是它们的id（　）函数的返回值\n",
    "    \n",
    "    \n"
   ],
   "cell_type": "markdown",
   "metadata": {}
  },
  {
   "cell_type": "code",
   "execution_count": 1,
   "metadata": {},
   "outputs": [
    {
     "output_type": "stream",
     "name": "stdout",
     "text": [
      "True\n"
     ]
    }
   ],
   "source": [
    "# 构造 字典的 多种方式：\n",
    "a = dict(one=1, two=2, three=3)\n",
    "b = {'one':1, 'two':2, 'three':3}\n",
    "c = dict(zip(['one', 'two', 'three'], [1, 2, 3]))\n",
    "d = dict([('two', 2), ('one', 1), ('three', 3)])\n",
    "e = dict({'three': 3, 'one': 1, 'two': 2})\n",
    "print(a == b == c == d == e)"
   ]
  },
  {
   "cell_type": "code",
   "execution_count": 6,
   "metadata": {},
   "outputs": [
    {
     "output_type": "stream",
     "name": "stdout",
     "text": [
      "{86: 'china', 91: 'India', 1: 'United State'}\n{'china': 86, 'India': 91, 'United State': 1}\n{'china': 86, 'India': 91}\n{'CHINA': 86, 'INDIA': 91}\n"
     ]
    }
   ],
   "source": [
    "#  字典推导：\n",
    "Diai_codes = [(86, 'china'), (91,'India'), (1, 'United State')]\n",
    "\n",
    "code_country = dict(Diai_codes)\n",
    "print(code_country)\n",
    "\n",
    "country_code = {country: code for code,country in Diai_codes}\n",
    "print(country_code)\n",
    "\n",
    "country_code_2 = {country: code for code,country in Diai_codes if code > 2}\n",
    "print(country_code_2)\n",
    "\n",
    "country_code_upper = {country.upper(): code for code,country in Diai_codes if code > 2}\n",
    "print(country_code_upper)"
   ]
  },
  {
   "cell_type": "code",
   "execution_count": null,
   "metadata": {},
   "outputs": [],
   "source": []
  }
 ]
}