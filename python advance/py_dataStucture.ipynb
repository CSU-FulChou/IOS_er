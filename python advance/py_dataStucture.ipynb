{
 "metadata": {
  "language_info": {
   "codemirror_mode": {
    "name": "ipython",
    "version": 3
   },
   "file_extension": ".py",
   "mimetype": "text/x-python",
   "name": "python",
   "nbconvert_exporter": "python",
   "pygments_lexer": "ipython3",
   "version": "3.6.3-final"
  },
  "orig_nbformat": 2,
  "kernelspec": {
   "name": "python3",
   "display_name": "Python 3.6.3 64-bit ('torch_3.6.3')",
   "metadata": {
    "interpreter": {
     "hash": "7a29bcb23a0ab4b628de1ef28bf000c8e312015eb828f1870c9d55726cf27100"
    }
   }
  }
 },
 "nbformat": 4,
 "nbformat_minor": 2,
 "cells": [
  {
   "source": [
    "# 序列类型 序列构成的数组：\n",
    "例如： list , str, bytes\n",
    "容器序列： list tuple\n",
    "扁平序列： str bytes bytearray\n",
    "\n",
    "numpy, scipy"
   ],
   "cell_type": "markdown",
   "metadata": {}
  },
  {
   "cell_type": "code",
   "execution_count": 2,
   "metadata": {},
   "outputs": [
    {
     "output_type": "stream",
     "name": "stdout",
     "text": [
      "<memory at 0x108f3e108>\n-2\n[254, 255, 255, 255, 0, 0, 1, 0, 2, 0]\narray('h', [-2, -1, 1024, 1, 2])\n"
     ]
    }
   ],
   "source": [
    "import array\n",
    "# 数组的 内存视图：\n",
    "numbers = array.array('h',[-2, -1, 0, 1, 2])\n",
    "memv = memoryview(numbers)\n",
    "len(memv)\n",
    "print(memv)\n",
    "print(memv[0])\n",
    "memv_oct = memv.cast('B')\n",
    "print(memv_oct.tolist())\n",
    "memv_oct[5] = 4\n",
    "print(numbers)"
   ]
  },
  {
   "source": [
    "# 队列：\n",
    "# Collection.deque 双向队列\n",
    "from collections import deque\n",
    "dq = deque(range(10),maxlen=10)\n",
    "print(dq)\n",
    "\n",
    "dq.rotate(3)\n",
    "print(dq)\n",
    "dq.rotate(-1)\n",
    "print(dq)\n",
    "dq.appendleft(-1)\n",
    "print(dq)\n",
    "dq.append(10)\n",
    "print(dq)\n",
    "dq.extend([11])\n",
    "print(dq)\n",
    "# append和popleft都是原子操作，也就说是deque可以在多线程程序中安全地当作先进先出的队列使用，而使用者不需要担心资源锁的问题。\n"
   ],
   "cell_type": "code",
   "metadata": {},
   "execution_count": 5,
   "outputs": [
    {
     "output_type": "stream",
     "name": "stdout",
     "text": [
      "deque([0, 1, 2, 3, 4, 5, 6, 7, 8, 9], maxlen=10)\ndeque([7, 8, 9, 0, 1, 2, 3, 4, 5, 6], maxlen=10)\ndeque([8, 9, 0, 1, 2, 3, 4, 5, 6, 7], maxlen=10)\ndeque([-1, 8, 9, 0, 1, 2, 3, 4, 5, 6], maxlen=10)\ndeque([8, 9, 0, 1, 2, 3, 4, 5, 6, 10], maxlen=10)\ndeque([9, 0, 1, 2, 3, 4, 5, 6, 10, 11], maxlen=10)\n"
     ]
    }
   ]
  },
  {
   "cell_type": "code",
   "execution_count": 17,
   "metadata": {},
   "outputs": [
    {
     "output_type": "stream",
     "name": "stdout",
     "text": [
      "black and s\nblack and m\nblack and l\nwhite and s\nwhite and m\nwhite and l\n"
     ]
    }
   ],
   "source": [
    "# 生成器表达式：\n",
    "colors = ['black', 'white']\n",
    "sizes = ['s', 'm', 'l']\n",
    "for t_shirt in ('{} and {}'.format(c,s) for c in colors for s in sizes):\n",
    "    print(t_shirt)\n",
    "# 元祖拆包：\n",
    "t = (2, 4)\n",
    "# print(*t)\n",
    "# print(t)"
   ]
  },
  {
   "cell_type": "code",
   "execution_count": 19,
   "metadata": {},
   "outputs": [
    {
     "output_type": "stream",
     "name": "stdout",
     "text": [
      "('rank', 'suit')\n"
     ]
    }
   ],
   "source": [
    "# 具名元祖：\n",
    "from collections import namedtuple\n",
    "Card = namedtuple('Card', ['rank', 'suit'])\n",
    "Card(1,'heats')\n",
    "print(Card._fields)\n",
    "# print(Card)"
   ]
  },
  {
   "cell_type": "code",
   "execution_count": 20,
   "metadata": {},
   "outputs": [
    {
     "output_type": "stream",
     "name": "stdout",
     "text": [
      "The Zen of Python, by Tim Peters\n\nBeautiful is better than ugly.\nExplicit is better than implicit.\nSimple is better than complex.\nComplex is better than complicated.\nFlat is better than nested.\nSparse is better than dense.\nReadability counts.\nSpecial cases aren't special enough to break the rules.\nAlthough practicality beats purity.\nErrors should never pass silently.\nUnless explicitly silenced.\nIn the face of ambiguity, refuse the temptation to guess.\nThere should be one-- and preferably only one --obvious way to do it.\nAlthough that way may not be obvious at first unless you're Dutch.\nNow is better than never.\nAlthough never is often better than *right* now.\nIf the implementation is hard to explain, it's a bad idea.\nIf the implementation is easy to explain, it may be a good idea.\nNamespaces are one honking great idea -- let's do more of those!\n"
     ]
    }
   ],
   "source": [
    "import this\n"
   ]
  },
  {
   "cell_type": "code",
   "execution_count": null,
   "metadata": {},
   "outputs": [],
   "source": []
  }
 ]
}