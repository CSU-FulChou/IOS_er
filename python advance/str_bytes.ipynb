{
 "metadata": {
  "language_info": {
   "codemirror_mode": {
    "name": "ipython",
    "version": 3
   },
   "file_extension": ".py",
   "mimetype": "text/x-python",
   "name": "python",
   "nbconvert_exporter": "python",
   "pygments_lexer": "ipython3",
   "version": 3
  },
  "orig_nbformat": 2
 },
 "nbformat": 4,
 "nbformat_minor": 2,
 "cells": [
  {
   "source": [
    "# 文本和字节序列：\n",
    "\n",
    "- 码位： 字符的标识 0~111411的数字\n",
    "- 编码 即 码位到字节序列之间 转换使用的算法\n",
    "- 把码位转换成字节序列的过程是**编码**；把字节序列转换成码位的过程是**解码**\n",
    "[img/04-1.png]"
   ],
   "cell_type": "markdown",
   "metadata": {}
  },
  {
   "cell_type": "code",
   "execution_count": null,
   "metadata": {},
   "outputs": [],
   "source": []
  }
 ]
}