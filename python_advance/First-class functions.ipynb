{
 "metadata": {
  "language_info": {
   "codemirror_mode": {
    "name": "ipython",
    "version": 3
   },
   "file_extension": ".py",
   "mimetype": "text/x-python",
   "name": "python",
   "nbconvert_exporter": "python",
   "pygments_lexer": "ipython3",
   "version": "3.6.3-final"
  },
  "orig_nbformat": 2,
  "kernelspec": {
   "name": "python363jvsc74a57bd07a29bcb23a0ab4b628de1ef28bf000c8e312015eb828f1870c9d55726cf27100",
   "display_name": "Python 3.6.3 64-bit ('torch_3.6.3')"
  }
 },
 "nbformat": 4,
 "nbformat_minor": 2,
 "cells": [
  {
   "source": [
    "# 一等函数："
   ],
   "cell_type": "markdown",
   "metadata": {}
  },
  {
   "source": [
    "reduce 函数： 在 functools 模块中\n",
    "reduce(function, sequence[, initial]) -> value\n",
    "\n",
    "从左到右对一个序列的项累计地应用有两个参数的函数，以此合并序列到一个单一值。\n",
    "\n",
    "例如，`reduce(lambda x, y: x+y, [1, 2, 3, 4, 5])`  计算的就是((((1+2)+3)+4)+5)。\n",
    "\n",
    "如果提供了 initial 参数，计算时它将被放在序列的所有项前面，如果序列是空的，它也就是计算的默认结果值了\n",
    "\n",
    "map 函数：\n",
    "map(function, iterable, ...)\n",
    "使用函数 func 对序列类型每一个元素做映射， 返回一个迭代器"
   ],
   "cell_type": "markdown",
   "metadata": {}
  },
  {
   "cell_type": "code",
   "execution_count": 5,
   "metadata": {},
   "outputs": [
    {
     "output_type": "stream",
     "name": "stdout",
     "text": [
      "6\n"
     ]
    }
   ],
   "source": [
    "from functools import reduce\n",
    "def fact(n):\n",
    "    return reduce(lambda a,b: a*b, range(1,n+1))\n",
    "print(fact(3))"
   ]
  },
  {
   "cell_type": "code",
   "execution_count": 6,
   "metadata": {},
   "outputs": [
    {
     "output_type": "stream",
     "name": "stdout",
     "text": [
      "120\n"
     ]
    }
   ],
   "source": [
    "from operator import mul\n",
    "def fact_new(n):\n",
    "    return reduce(mul,range(1,n+1))\n",
    "print(fact_new(5))"
   ]
  },
  {
   "source": [
    "lambda 函数：\n",
    " - lambda argument_list:expersion\n",
    " - 语法中的argument_list是参数列表，它的结构与Python中函数(function)的参数列表是一样的\n",
    " - 语法中的expression是一个关于参数的表达式，表达式中出现的参数需要在argument_list中有定义，并且表达式只能是单行的。\n",
    " "
   ],
   "cell_type": "markdown",
   "metadata": {}
  },
  {
   "source": [
    "- operator mul , add 等函数\n",
    "- operator模块中还有一类函数，能替代从序列中取出元素或读取对象属性的lambda表达式：因此，itemgetter和attrgetter其实会自行构建函数\n",
    "- functools.partial这个高阶函数用于部分应用一个函数。部分应用是指，基于一个函数创建一个新的可调用对象，把原函数的某些参数固定。使用这个函数可以把接受一个或多个参数的函数改编成需要回调的API，这样参数更少。"
   ],
   "cell_type": "markdown",
   "metadata": {}
  },
  {
   "cell_type": "code",
   "execution_count": 8,
   "metadata": {},
   "outputs": [
    {
     "output_type": "execute_result",
     "data": {
      "text/plain": [
       "[3, 6, 9, 12, 15, 18, 21, 24, 27]"
      ]
     },
     "metadata": {},
     "execution_count": 8
    }
   ],
   "source": [
    "from operator import mul\n",
    "from functools import partial\n",
    "triple = partial(mul,3)\n",
    "triple(7)\n",
    "list(map(triple,range(1,10)))"
   ]
  },
  {
   "source": [
    "Python函数及其注解有丰富的属性，在inspect模块的帮助下，可以读取它们。例如，Signature.bind方法使用灵活的规则把实参绑定到形参上，这与Python使用的规则一样。\n",
    "- 函数注解： def clip(text:str) ->str:  提示参数类型，返回值类型\n"
   ],
   "cell_type": "markdown",
   "metadata": {}
  },
  {
   "source": [
    "## 使用一等函数实现的设计模型\n",
    "\n",
    "- 比如说策略模式， 注入子类，注入子类的时候可以注入函数即可。\n",
    "- 但是函数要继承 上下文，就可以获得上下文的\n"
   ],
   "cell_type": "markdown",
   "metadata": {}
  },
  {
   "cell_type": "code",
   "execution_count": 4,
   "metadata": {},
   "outputs": [
    {
     "output_type": "execute_result",
     "data": {
      "text/plain": [
       "5.0"
      ]
     },
     "metadata": {},
     "execution_count": 4
    }
   ],
   "source": [
    "class Order():\n",
    "    def __init__(self, money, dis_stategy=None):\n",
    "        self.money = money\n",
    "        self.dis_stategy = dis_stategy\n",
    "    def __repr__(self):\n",
    "        return str(self.dis_stategy(self))\n",
    "def half(order):\n",
    "    return Order.money * (1-0.5)\n",
    "\n",
    "Order(10,half)\n",
    "# 多个函数：\n",
    "# 习惯函数是一等对象后，自然而然就会构建那种数据结构存储函数。\n",
    "strategy = [half, double, triple]\n"
   ]
  },
  {
   "source": [
    "- globals（　）返回一个字典，表示当前的全局符号表。这个符号表始终针对当前模块（对函数或方法来说，是指定义它们的模块，而不是调用它们的模块）。\n",
    "- 模块内省：使用inspect 模块去 获得某一个模块的属性， inspect.getmembers(obj,条件)\n"
   ],
   "cell_type": "markdown",
   "metadata": {}
  }
 ]
}